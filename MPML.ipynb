{
 "cells": [
  {
   "cell_type": "code",
   "execution_count": 38,
   "metadata": {},
   "outputs": [],
   "source": [
    "import pandas as pd\n",
    "import seaborn as sns\n",
    "import matplotlib.pyplot as plt\n",
    "from sklearn.model_selection import train_test_split\n",
    "from sklearn.preprocessing import StandardScaler, OneHotEncoder\n",
    "from sklearn.impute import SimpleImputer\n",
    "from sklearn.compose import ColumnTransformer\n",
    "from sklearn.pipeline import Pipeline\n",
    "import pandas as pd\n",
    "from sklearn.compose import ColumnTransformer\n",
    "from sklearn.preprocessing import OneHotEncoder, MinMaxScaler, MultiLabelBinarizer\n",
    "from sklearn.feature_extraction.text import CountVectorizer\n",
    "from sklearn.pipeline import Pipeline\n",
    "from sklearn.model_selection import train_test_split\n",
    "import warnings\n",
    "# Menyembunyikan semua peringatan\n",
    "warnings.filterwarnings('ignore')\n"
   ]
  },
  {
   "cell_type": "markdown",
   "metadata": {},
   "source": [
    "# Read Data"
   ]
  },
  {
   "cell_type": "code",
   "execution_count": 39,
   "metadata": {},
   "outputs": [],
   "source": [
    "# Memuat dataset\n",
    "df = pd.read_csv('restaurant_menu_optimization_data.csv')"
   ]
  },
  {
   "cell_type": "code",
   "execution_count": 40,
   "metadata": {},
   "outputs": [
    {
     "name": "stdout",
     "output_type": "stream",
     "text": [
      "<class 'pandas.core.frame.DataFrame'>\n",
      "RangeIndex: 1000 entries, 0 to 999\n",
      "Data columns (total 6 columns):\n",
      " #   Column         Non-Null Count  Dtype  \n",
      "---  ------         --------------  -----  \n",
      " 0   RestaurantID   1000 non-null   object \n",
      " 1   MenuCategory   1000 non-null   object \n",
      " 2   MenuItem       1000 non-null   object \n",
      " 3   Ingredients    1000 non-null   object \n",
      " 4   Price          1000 non-null   float64\n",
      " 5   Profitability  1000 non-null   object \n",
      "dtypes: float64(1), object(5)\n",
      "memory usage: 47.0+ KB\n"
     ]
    }
   ],
   "source": [
    "# Display basic information\n",
    "df.info()"
   ]
  },
  {
   "cell_type": "code",
   "execution_count": 41,
   "metadata": {},
   "outputs": [
    {
     "data": {
      "text/html": [
       "<div>\n",
       "<style scoped>\n",
       "    .dataframe tbody tr th:only-of-type {\n",
       "        vertical-align: middle;\n",
       "    }\n",
       "\n",
       "    .dataframe tbody tr th {\n",
       "        vertical-align: top;\n",
       "    }\n",
       "\n",
       "    .dataframe thead th {\n",
       "        text-align: right;\n",
       "    }\n",
       "</style>\n",
       "<table border=\"1\" class=\"dataframe\">\n",
       "  <thead>\n",
       "    <tr style=\"text-align: right;\">\n",
       "      <th></th>\n",
       "      <th>RestaurantID</th>\n",
       "      <th>MenuCategory</th>\n",
       "      <th>MenuItem</th>\n",
       "      <th>Ingredients</th>\n",
       "      <th>Price</th>\n",
       "      <th>Profitability</th>\n",
       "    </tr>\n",
       "  </thead>\n",
       "  <tbody>\n",
       "    <tr>\n",
       "      <th>0</th>\n",
       "      <td>R003</td>\n",
       "      <td>Beverages</td>\n",
       "      <td>Soda</td>\n",
       "      <td>['confidential']</td>\n",
       "      <td>2.55</td>\n",
       "      <td>Low</td>\n",
       "    </tr>\n",
       "    <tr>\n",
       "      <th>1</th>\n",
       "      <td>R001</td>\n",
       "      <td>Appetizers</td>\n",
       "      <td>Spinach Artichoke Dip</td>\n",
       "      <td>['Tomatoes', 'Basil', 'Garlic', 'Olive Oil']</td>\n",
       "      <td>11.12</td>\n",
       "      <td>Medium</td>\n",
       "    </tr>\n",
       "    <tr>\n",
       "      <th>2</th>\n",
       "      <td>R003</td>\n",
       "      <td>Desserts</td>\n",
       "      <td>New York Cheesecake</td>\n",
       "      <td>['Chocolate', 'Butter', 'Sugar', 'Eggs']</td>\n",
       "      <td>18.66</td>\n",
       "      <td>High</td>\n",
       "    </tr>\n",
       "    <tr>\n",
       "      <th>3</th>\n",
       "      <td>R003</td>\n",
       "      <td>Main Course</td>\n",
       "      <td>Chicken Alfredo</td>\n",
       "      <td>['Chicken', 'Fettuccine', 'Alfredo Sauce', 'Pa...</td>\n",
       "      <td>29.55</td>\n",
       "      <td>High</td>\n",
       "    </tr>\n",
       "    <tr>\n",
       "      <th>4</th>\n",
       "      <td>R002</td>\n",
       "      <td>Main Course</td>\n",
       "      <td>Grilled Steak</td>\n",
       "      <td>['Chicken', 'Fettuccine', 'Alfredo Sauce', 'Pa...</td>\n",
       "      <td>17.73</td>\n",
       "      <td>Medium</td>\n",
       "    </tr>\n",
       "  </tbody>\n",
       "</table>\n",
       "</div>"
      ],
      "text/plain": [
       "  RestaurantID MenuCategory               MenuItem  \\\n",
       "0         R003    Beverages                   Soda   \n",
       "1         R001   Appetizers  Spinach Artichoke Dip   \n",
       "2         R003     Desserts    New York Cheesecake   \n",
       "3         R003  Main Course        Chicken Alfredo   \n",
       "4         R002  Main Course          Grilled Steak   \n",
       "\n",
       "                                         Ingredients  Price Profitability  \n",
       "0                                   ['confidential']   2.55           Low  \n",
       "1       ['Tomatoes', 'Basil', 'Garlic', 'Olive Oil']  11.12        Medium  \n",
       "2           ['Chocolate', 'Butter', 'Sugar', 'Eggs']  18.66          High  \n",
       "3  ['Chicken', 'Fettuccine', 'Alfredo Sauce', 'Pa...  29.55          High  \n",
       "4  ['Chicken', 'Fettuccine', 'Alfredo Sauce', 'Pa...  17.73        Medium  "
      ]
     },
     "execution_count": 41,
     "metadata": {},
     "output_type": "execute_result"
    }
   ],
   "source": [
    "# Display first few rows\n",
    "df.head()\n"
   ]
  },
  {
   "cell_type": "code",
   "execution_count": 42,
   "metadata": {},
   "outputs": [
    {
     "data": {
      "image/png": "[encoded data removed]",
      "text/plain": [
       "<Figure size 1000x600 with 1 Axes>"
      ]
     },
     "metadata": {},
     "output_type": "display_data"
    }
   ],
   "source": [
    "# Visualisasi distribusi harga\n",
    "plt.figure(figsize=(10, 6))\n",
    "sns.histplot(df['Price'], bins=10, kde=True)\n",
    "plt.title('Distribusi Harga Menu')\n",
    "plt.xlabel('Price')\n",
    "plt.ylabel('Frequency')\n",
    "plt.show()\n"
   ]
  },
  {
   "cell_type": "code",
   "execution_count": 43,
   "metadata": {},
   "outputs": [
    {
     "data": {
      "image/png": "[encoded data removed]",
      "text/plain": [
       "<Figure size 800x500 with 1 Axes>"
      ]
     },
     "metadata": {},
     "output_type": "display_data"
    }
   ],
   "source": [
    "# Visualisasi profitabilitas\n",
    "plt.figure(figsize=(8, 5))\n",
    "sns.countplot(x='Profitability', data=df)\n",
    "plt.title('Distribusi Profitabilitas')\n",
    "plt.xlabel('Profitability')\n",
    "plt.ylabel('Count')\n",
    "plt.show()"
   ]
  },
  {
   "cell_type": "code",
   "execution_count": 44,
   "metadata": {},
   "outputs": [
    {
     "data": {
      "image/png": "[encoded data removed]",
      "text/plain": [
       "<Figure size 1200x600 with 1 Axes>"
      ]
     },
     "metadata": {},
     "output_type": "display_data"
    }
   ],
   "source": [
    "# Visualisasi harga berdasarkan kategori menu\n",
    "plt.figure(figsize=(12, 6))\n",
    "sns.boxplot(x='MenuCategory', y='Price', data=df)\n",
    "plt.title('Harga Menu Berdasarkan Kategori')\n",
    "plt.xlabel('MenuCategory')\n",
    "plt.ylabel('Price')\n",
    "plt.show()"
   ]
  },
  {
   "cell_type": "markdown",
   "metadata": {},
   "source": [
    "# Stage 2: Data Preprocessing"
   ]
  },
  {
   "cell_type": "code",
   "execution_count": 45,
   "metadata": {},
   "outputs": [],
   "source": [
    "from sklearn.model_selection import train_test_split\n",
    "from sklearn.preprocessing import OneHotEncoder, MinMaxScaler, LabelEncoder\n",
    "from sklearn.compose import ColumnTransformer\n",
    "from sklearn.pipeline import Pipeline\n",
    "from sklearn.impute import SimpleImputer\n",
    "\n",
    "# Definisi DataFrame dan pemilihan kolom\n",
    "df_select = df[['MenuCategory', 'MenuItem','Price', 'Profitability']]"
   ]
  },
  {
   "cell_type": "code",
   "execution_count": 46,
   "metadata": {},
   "outputs": [
    {
     "name": "stdout",
     "output_type": "stream",
     "text": [
      "Train data size: (978, 4)\n",
      "Test data size: (22, 4)\n"
     ]
    }
   ],
   "source": [
    "# Separate\n",
    "train_df = df_select.iloc[:978, :]\n",
    "test_df = df_select.iloc[978:,:10]\n",
    "\n",
    "print(\"Train data size:\", train_df.shape)\n",
    "print(\"Test data size:\", test_df.shape)"
   ]
  },
  {
   "cell_type": "code",
   "execution_count": 47,
   "metadata": {},
   "outputs": [
    {
     "name": "stdout",
     "output_type": "stream",
     "text": [
      "Missing values:\n",
      " MenuCategory     0\n",
      "MenuItem         0\n",
      "Price            0\n",
      "Profitability    0\n",
      "dtype: int64\n"
     ]
    }
   ],
   "source": [
    "# Cek missing values\n",
    "print(\"Missing values:\\n\", df_select.isnull().sum())"
   ]
  },
  {
   "cell_type": "code",
   "execution_count": 48,
   "metadata": {},
   "outputs": [],
   "source": [
    "# Pisahkan fitur (x) dan target (y)\n",
    "x = train_df.drop('Profitability', axis=1)\n",
    "y = train_df['Profitability']"
   ]
  },
  {
   "cell_type": "code",
   "execution_count": 49,
   "metadata": {},
   "outputs": [],
   "source": [
    "# Split data menjadi data latih dan data uji\n",
    "x_train, x_test, y_train, y_test = train_test_split(x, y, random_state=1234, test_size=0.2)"
   ]
  },
  {
   "cell_type": "code",
   "execution_count": 50,
   "metadata": {},
   "outputs": [],
   "source": [
    "# Inisialisasi ColumnTransformer\n",
    "ct = ColumnTransformer(\n",
    "    transformers=[\n",
    "        (\"cat_menu_category\", OneHotEncoder(drop='first'), ['MenuCategory']),\n",
    "        (\"cat_menu_item\", CountVectorizer(), 'MenuItem'),\n",
    "        (\"num_price\", MinMaxScaler(), ['Price'])\n",
    "    ],\n",
    "    remainder='passthrough'\n",
    ")"
   ]
  },
  {
   "cell_type": "code",
   "execution_count": 51,
   "metadata": {},
   "outputs": [],
   "source": [
    "# Transformasi data\n",
    "x_train_trans = ct.fit_transform(x_train)\n",
    "x_test_trans = ct.transform(x_test)"
   ]
  },
  {
   "cell_type": "code",
   "execution_count": 52,
   "metadata": {},
   "outputs": [
    {
     "name": "stdout",
     "output_type": "stream",
     "text": [
      "(782, 35)\n",
      "(196, 35)\n"
     ]
    }
   ],
   "source": [
    "# Memeriksa hasil\n",
    "print(x_train_trans.shape)\n",
    "print(x_test_trans.shape)"
   ]
  },
  {
   "cell_type": "markdown",
   "metadata": {},
   "source": [
    "# Stage 3: Model Training and Comparison"
   ]
  },
  {
   "cell_type": "markdown",
   "metadata": {},
   "source": [
    "# Model Random Forest"
   ]
  },
  {
   "cell_type": "code",
   "execution_count": 53,
   "metadata": {},
   "outputs": [],
   "source": [
    "from sklearn.metrics import accuracy_score, precision_score, recall_score, f1_score, classification_report\n",
    "from sklearn.model_selection import cross_val_score"
   ]
  },
  {
   "cell_type": "code",
   "execution_count": 54,
   "metadata": {},
   "outputs": [],
   "source": [
    "# Example for Random Forest\n",
    "from sklearn.ensemble import RandomForestClassifier\n",
    "rf_pipeline = Pipeline(steps=[\n",
    "    ('preprocessor', ct),\n",
    "    ('classifier', RandomForestClassifier())\n",
    "])\n",
    "rf_pipeline.fit(x_train, y_train)\n",
    "y_pred_rf = rf_pipeline.predict(x_test)"
   ]
  },
  {
   "cell_type": "code",
   "execution_count": 55,
   "metadata": {},
   "outputs": [
    {
     "name": "stdout",
     "output_type": "stream",
     "text": [
      "Random Forest - Akurasi: 0.8776\n",
      "Random Forest - Presisi: 0.8867\n",
      "Random Forest - Recall: 0.8776\n",
      "Random Forest - Nilai F1: 0.8806\n"
     ]
    }
   ],
   "source": [
    "# Evaluasi\n",
    "accuracy_rf = accuracy_score(y_test, y_pred_rf)\n",
    "precision_rf = precision_score(y_test, y_pred_rf, average='weighted')\n",
    "recall_rf = recall_score(y_test, y_pred_rf, average='weighted')\n",
    "f1_rf = f1_score(y_test, y_pred_rf, average='weighted')\n",
    "\n",
    "print(f\"Random Forest - Akurasi: {accuracy_rf:.4f}\")\n",
    "print(f\"Random Forest - Presisi: {precision_rf:.4f}\")\n",
    "print(f\"Random Forest - Recall: {recall_rf:.4f}\")\n",
    "print(f\"Random Forest - Nilai F1: {f1_rf:.4f}\")"
   ]
  },
  {
   "cell_type": "code",
   "execution_count": 56,
   "metadata": {},
   "outputs": [
    {
     "name": "stdout",
     "output_type": "stream",
     "text": [
      "Random Forest - Classification Report:\n",
      "               precision    recall  f1-score   support\n",
      "\n",
      "        High       0.85      0.90      0.87        67\n",
      "         Low       0.62      0.75      0.68        20\n",
      "      Medium       0.96      0.89      0.92       109\n",
      "\n",
      "    accuracy                           0.88       196\n",
      "   macro avg       0.81      0.85      0.83       196\n",
      "weighted avg       0.89      0.88      0.88       196\n",
      "\n"
     ]
    }
   ],
   "source": [
    "# Print classification report\n",
    "print(\"Random Forest - Classification Report:\\n\", classification_report(y_test, y_pred_rf))"
   ]
  },
  {
   "cell_type": "code",
   "execution_count": 57,
   "metadata": {},
   "outputs": [
    {
     "name": "stdout",
     "output_type": "stream",
     "text": [
      "Random Forest Cross-Validation Score: 0.8453\n"
     ]
    }
   ],
   "source": [
    "# Cross-Validation\n",
    "cv_scores_rf = cross_val_score(rf_pipeline, x_train, y_train, cv=5)\n",
    "print(f\"Random Forest Cross-Validation Score: {cv_scores_rf.mean():.4f}\")"
   ]
  },
  {
   "cell_type": "markdown",
   "metadata": {},
   "source": [
    "# Model KNN"
   ]
  },
  {
   "cell_type": "code",
   "execution_count": 58,
   "metadata": {},
   "outputs": [],
   "source": [
    "from sklearn.neighbors import KNeighborsClassifier\n",
    "\n",
    "# Inisialisasi Pipeline untuk KNN\n",
    "knn_pipeline = Pipeline(steps=[\n",
    "    ('preprocessor', ct),                 # Preprocessing dengan ColumnTransformer\n",
    "    ('classifier', KNeighborsClassifier())    # KNN classifier\n",
    "])\n",
    "\n",
    "# Train KNN model\n",
    "knn_pipeline.fit(x_train, y_train)\n",
    "\n",
    "# Prediksi dengan model yang sudah dilatih\n",
    "y_pred_knn = knn_pipeline.predict(x_test)"
   ]
  },
  {
   "cell_type": "code",
   "execution_count": 59,
   "metadata": {},
   "outputs": [
    {
     "name": "stdout",
     "output_type": "stream",
     "text": [
      "KNN - Akurasi: 0.9286\n",
      "KNN - Presisi: 0.9331\n",
      "KNN - Recall: 0.9286\n",
      "KNN - Nilai F1: 0.9277\n"
     ]
    }
   ],
   "source": [
    "# Evaluasi\n",
    "accuracy_knn = accuracy_score(y_test, y_pred_knn)\n",
    "precision_knn = precision_score(y_test, y_pred_knn, average='weighted')\n",
    "recall_knn = recall_score(y_test, y_pred_knn, average='weighted')\n",
    "f1_knn = f1_score(y_test, y_pred_knn, average='weighted')\n",
    "\n",
    "print(f\"KNN - Akurasi: {accuracy_knn:.4f}\")\n",
    "print(f\"KNN - Presisi: {precision_knn:.4f}\")\n",
    "print(f\"KNN - Recall: {recall_knn:.4f}\")\n",
    "print(f\"KNN - Nilai F1: {f1_knn:.4f}\")"
   ]
  },
  {
   "cell_type": "code",
   "execution_count": 60,
   "metadata": {},
   "outputs": [
    {
     "name": "stdout",
     "output_type": "stream",
     "text": [
      "KNN - Classification Report:\n",
      "               precision    recall  f1-score   support\n",
      "\n",
      "        High       0.86      0.97      0.91        67\n",
      "         Low       0.93      0.70      0.80        20\n",
      "      Medium       0.98      0.94      0.96       109\n",
      "\n",
      "    accuracy                           0.93       196\n",
      "   macro avg       0.92      0.87      0.89       196\n",
      "weighted avg       0.93      0.93      0.93       196\n",
      "\n"
     ]
    }
   ],
   "source": [
    "# Print classification report\n",
    "print(\"KNN - Classification Report:\\n\", classification_report(y_test, y_pred_knn))"
   ]
  },
  {
   "cell_type": "code",
   "execution_count": 61,
   "metadata": {},
   "outputs": [
    {
     "name": "stdout",
     "output_type": "stream",
     "text": [
      "KNN Cross-Validation Score: 0.9041\n"
     ]
    }
   ],
   "source": [
    "# Cross-Validation untuk KNN\n",
    "cv_scores_knn = cross_val_score(knn_pipeline, x_train, y_train, cv=5)\n",
    "print(f\"KNN Cross-Validation Score: {cv_scores_knn.mean():.4f}\")"
   ]
  },
  {
   "cell_type": "markdown",
   "metadata": {},
   "source": [
    "# Model ANN"
   ]
  },
  {
   "cell_type": "code",
   "execution_count": 62,
   "metadata": {},
   "outputs": [],
   "source": [
    "from sklearn.neural_network import MLPClassifier\n",
    "\n",
    "# Inisialisasi Pipeline untuk ANN\n",
    "ann_pipeline = Pipeline(steps=[\n",
    "    ('preprocessor', ct),  # Preprocessing dengan ColumnTransformer\n",
    "    ('classifier', MLPClassifier(max_iter=500))  # ANN classifier\n",
    "])\n",
    "\n",
    "# Train ANN model\n",
    "ann_pipeline.fit(x_train, y_train)\n",
    "\n",
    "# Prediksi dengan model yang sudah dilatih\n",
    "y_pred_ann = ann_pipeline.predict(x_test)"
   ]
  },
  {
   "cell_type": "code",
   "execution_count": 63,
   "metadata": {},
   "outputs": [
    {
     "name": "stdout",
     "output_type": "stream",
     "text": [
      "ANN - Akurasi: 0.8980\n",
      "ANN - Presisi: 0.9011\n",
      "ANN - Recall: 0.8980\n",
      "ANN - Nilai F1: 0.8939\n"
     ]
    }
   ],
   "source": [
    "# Evaluasi\n",
    "accuracy_ann = accuracy_score(y_test, y_pred_ann)\n",
    "precision_ann = precision_score(y_test, y_pred_ann, average='weighted')\n",
    "recall_ann = recall_score(y_test, y_pred_ann, average='weighted')\n",
    "f1_ann = f1_score(y_test, y_pred_ann, average='weighted')\n",
    "\n",
    "print(f\"ANN - Akurasi: {accuracy_ann:.4f}\")\n",
    "print(f\"ANN - Presisi: {precision_ann:.4f}\")\n",
    "print(f\"ANN - Recall: {recall_ann:.4f}\")\n",
    "print(f\"ANN - Nilai F1: {f1_ann:.4f}\")\n"
   ]
  },
  {
   "cell_type": "code",
   "execution_count": 64,
   "metadata": {},
   "outputs": [
    {
     "name": "stdout",
     "output_type": "stream",
     "text": [
      "ANN - Classification Report:\n",
      "               precision    recall  f1-score   support\n",
      "\n",
      "        High       0.84      0.94      0.89        67\n",
      "         Low       0.92      0.55      0.69        20\n",
      "      Medium       0.94      0.94      0.94       109\n",
      "\n",
      "    accuracy                           0.90       196\n",
      "   macro avg       0.90      0.81      0.84       196\n",
      "weighted avg       0.90      0.90      0.89       196\n",
      "\n"
     ]
    }
   ],
   "source": [
    "# Print classification report\n",
    "print(\"ANN - Classification Report:\\n\", classification_report(y_test, y_pred_ann))"
   ]
  },
  {
   "cell_type": "code",
   "execution_count": 65,
   "metadata": {},
   "outputs": [
    {
     "name": "stdout",
     "output_type": "stream",
     "text": [
      "ANN Cross-Validation Score: 0.8235\n"
     ]
    }
   ],
   "source": [
    "# Cross-Validation untuk ANN\n",
    "cv_scores_ann = cross_val_score(ann_pipeline, x_train, y_train, cv=5)\n",
    "print(f\"ANN Cross-Validation Score: {cv_scores_ann.mean():.4f}\")"
   ]
  },
  {
   "cell_type": "markdown",
   "metadata": {},
   "source": [
    "# Membandingkan Kinerja Model"
   ]
  },
  {
   "cell_type": "code",
   "execution_count": 66,
   "metadata": {},
   "outputs": [
    {
     "data": {
      "image/png": "[encoded data removed]",
      "text/plain": [
       "<Figure size 1400x800 with 1 Axes>"
      ]
     },
     "metadata": {},
     "output_type": "display_data"
    }
   ],
   "source": [
    "import matplotlib.pyplot as plt\n",
    "import numpy as np\n",
    "\n",
    "# Data untuk visualisasi\n",
    "models = ['ANN', 'KNN', 'Random Forest']\n",
    "accuracies = [accuracy_ann, accuracy_knn, accuracy_rf]\n",
    "f1_scores = [f1_ann, f1_knn, f1_rf]\n",
    "precisions = [precision_ann, precision_knn, precision_rf]\n",
    "recalls = [recall_ann, recall_knn, recall_rf]\n",
    "\n",
    "# Bar width\n",
    "bar_width = 0.2\n",
    "\n",
    "# Posisi untuk bar\n",
    "r1 = np.arange(len(models))\n",
    "r2 = [x + bar_width for x in r1]\n",
    "r3 = [x + bar_width for x in r2]\n",
    "r4 = [x + bar_width for x in r3]\n",
    "\n",
    "# Ukuran figure\n",
    "plt.figure(figsize=(14, 8))\n",
    "\n",
    "# Membuat bar untuk masing-masing metrik\n",
    "plt.bar(r1, accuracies, color='blue', width=bar_width, edgecolor='grey', label='Akurasi')\n",
    "plt.bar(r2, precisions, color='green', width=bar_width, edgecolor='grey', label='Precision')\n",
    "plt.bar(r3, recalls, color='red', width=bar_width, edgecolor='grey', label='Recall')\n",
    "plt.bar(r4, f1_scores, color='cyan', width=bar_width, edgecolor='grey', label='F1 Score')\n",
    "\n",
    "# Menambahkan label ke sumbu x\n",
    "plt.xlabel('Model', fontweight='bold')\n",
    "plt.xticks([r + bar_width for r in range(len(models))], models)\n",
    "\n",
    "# Menambahkan judul dan legend\n",
    "plt.title('Perbandingan Kinerja Model')\n",
    "plt.ylim([0, 1])\n",
    "plt.legend()\n",
    "\n",
    "# Menampilkan plot\n",
    "plt.tight_layout()\n",
    "plt.show()\n",
    "\n",
    "\n"
   ]
  }
 ],
 "metadata": {
  "kernelspec": {
   "display_name": "base",
   "language": "python",
   "name": "python3"
  },
  "language_info": {
   "codemirror_mode": {
    "name": "ipython",
    "version": 3
   },
   "file_extension": ".py",
   "mimetype": "text/x-python",
   "name": "python",
   "nbconvert_exporter": "python",
   "pygments_lexer": "ipython3",
   "version": "3.11.7"
  }
 },
 "nbformat": 4,
 "nbformat_minor": 2
}
